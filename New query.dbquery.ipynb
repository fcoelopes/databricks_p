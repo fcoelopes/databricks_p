{
 "cells": [
  {
   "cell_type": "code",
   "execution_count": 0,
   "metadata": {
    "application/vnd.databricks.v1+cell": {
     "cellMetadata": {
      "byteLimit": 10485760,
      "rowLimit": 1000
     },
     "inputWidgets": {},
     "nuid": "879bee7b-ae49-4651-87d1-ae2e198d045a",
     "showTitle": false,
     "tableResultSettingsMap": {},
     "title": ""
    }
   },
   "outputs": [],
   "source": [
    "SELECT * FROM customers\n",
    "\n",
    "SELECT * FROM customers\n",
    "WHERE customers.birth_date > '2000-01-01'\n",
    "ORDER BY customers.score\n",
    "LIMIT 10;\n",
    "\n",
    "SELECT\n",
    "  first_name,\n",
    "  last_name,\n",
    "  birth_date,\n",
    "  FLOOR(datediff(current_date, birth_date) / 365) AS age\n",
    "FROM customers\n",
    "ORDER BY age DESC\n",
    "LIMIT 10;\n"
   ]
  }
 ],
 "metadata": {
  "application/vnd.databricks.v1+notebook": {
   "computePreferences": null,
   "dashboards": [],
   "environmentMetadata": null,
   "inputWidgetPreferences": null,
   "language": "sql",
   "notebookMetadata": {
    "pythonIndentUnit": 4,
    "sqlQueryOptions": {
     "applyAutoLimit": true,
     "catalog": "workspace",
     "schema": "default"
    }
   },
   "notebookName": "New query.dbquery.ipynb",
   "widgets": {}
  },
  "language_info": {
   "name": "sql"
  }
 },
 "nbformat": 4,
 "nbformat_minor": 0
}
